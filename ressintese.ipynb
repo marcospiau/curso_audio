{
 "cells": [
  {
   "cell_type": "markdown",
   "metadata": {},
   "source": [
    "# Re-Síntese de sinais amostrados\n",
    "\n",
    "Na interação anterior, verificamos que em determinadas condições um sinal periódico contínuo pode ser amostrado e, se a sua frequência for conhecidamente inferior à metade da frequência de amostragem, sua representação discreta será única. Nesta interação, mostraremos como é possível utilizar essa propriedade para reproduzir, novamente, o sinal contínuo.\n",
    "\n",
    "## Objetivos\n",
    "Ao fim desta interação, o estudante será capaz de:\n",
    "\n",
    "1. Compreender os conceitos de *domínio do tempo* e de *domínio da frequência*\n",
    "1. Analisar um sinal amostrado utilizando sua representação no domínio da frequência\n",
    "\n",
    "## Série de Fourier\n",
    "(história disso? prova?)\n",
    "Sabemos que um sinal $x(t)$, periódico com frequência $F_0$, pode ser re-escrito na forma:\n",
    "$$x(t) = \\sum_{m=0}^{\\infty} a_m \\cos(2\\pi m F_0 + \\phi_m)$$\n",
    "\n",
    "Nesta expressão, o valor de $F_0$ é conhecido e, portanto, variam apenas os coeficientes $a_m$ e as fases $\\phi_m$.\n",
    "A representação pela somatória de cossenoides tem erro zero, ou seja, cada conjunto infinito de valores $\\{a_m, \\phi_m\\}$ é relacionado a um único sinal $x(t)$. Assim, é possível analisar um sinal $x(t)$ periódico usando somente os coeficientes de sua Série de Fourier correspondente.\n",
    "\n"
   ]
  },
  {
   "cell_type": "code",
   "execution_count": null,
   "metadata": {
    "collapsed": true
   },
   "outputs": [],
   "source": []
  }
 ],
 "metadata": {
  "kernelspec": {
   "display_name": "Python 2",
   "language": "python",
   "name": "python2"
  },
  "language_info": {
   "codemirror_mode": {
    "name": "ipython",
    "version": 2
   },
   "file_extension": ".py",
   "mimetype": "text/x-python",
   "name": "python",
   "nbconvert_exporter": "python",
   "pygments_lexer": "ipython2",
   "version": "2.7.10"
  }
 },
 "nbformat": 4,
 "nbformat_minor": 0
}
