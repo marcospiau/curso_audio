{
 "cells": [
  {
   "cell_type": "markdown",
   "metadata": {},
   "source": [
    "# Análise de Sinais Musicais\n",
    "\n",
    "Este é o material para o curso de análise de sinais musicais. Se você está lendo esta mensagem, provavelmente está tudo certo com o seu sistema. Porém, durante o curso precisaremos de uma série de bibliotecas, que talvez não estejam instaladas. Execute (usando shift+enter) o código abaixo, que verificará automaticamente se você ainda precisa instalar alguma coisa."
   ]
  },
  {
   "cell_type": "code",
   "execution_count": 5,
   "metadata": {
    "collapsed": false
   },
   "outputs": [
    {
     "name": "stdout",
     "output_type": "stream",
     "text": [
      "Aparentemente, seu sistema tem todos os pacotes que precisaremos.\n"
     ]
    }
   ],
   "source": [
    "funciona = True\n",
    "\n",
    "try:\n",
    "    import IPython\n",
    "except:\n",
    "    print \"Precisa instalar o IPython\"\n",
    "    funciona = False\n",
    "\n",
    "try:\n",
    "    import numpy\n",
    "except:\n",
    "    print \"Precisa instalar o numpy\"\n",
    "    funciona = False\n",
    "    \n",
    "try:\n",
    "    import scipy\n",
    "except:\n",
    "    print \"Precisa instalar o scipy\"\n",
    "    funciona = False\n",
    "\n",
    "try:\n",
    "    import matplotlib\n",
    "except:\n",
    "    print \"Precisa instalar o matplotlib\"\n",
    "    funciona = False\n",
    "\n",
    "try:\n",
    "    import mir3\n",
    "except:\n",
    "    print \"Precisa instalar o PyMIR3\"\n",
    "    funciona = False\n",
    "\n",
    "try:\n",
    "    import sklearn\n",
    "except:\n",
    "    print \"Precisa instalar o sklearn\"\n",
    "    funciona = False\n",
    "    \n",
    "if funciona:\n",
    "    print \"Aparentemente, seu sistema tem todos os pacotes que precisaremos.\"\n",
    "\n"
   ]
  },
  {
   "cell_type": "markdown",
   "metadata": {},
   "source": [
    "## Tópicos do curso\n",
    "\n",
    "1. [Transformada de Fourier para Áudio](tdf_audio.ipynb)\n",
    "1. [Espectrogramas](espectrogramas.ipynb)\n",
    "1. [Afinação, Temperamento e Notas Musicais](afinacao.ipynb)\n",
    "1. [Detecção de Alturas](pitch.ipynb)\n",
    "1. [Detecção de Eventos Musicais e Andamento](andamento.ipynb)\n",
    "1. [Descritores de Áudio](descritores.ipynb)\n",
    "1. [Estatísticas de Timbre](estatisticas_de_timbre.ipynb)\n",
    "1. Inteligência Computacional\n",
    "1. Classificação Automática de Sinais de Áudio"
   ]
  },
  {
   "cell_type": "code",
   "execution_count": null,
   "metadata": {
    "collapsed": true
   },
   "outputs": [],
   "source": []
  }
 ],
 "metadata": {
  "kernelspec": {
   "display_name": "Python 2",
   "language": "python",
   "name": "python2"
  },
  "language_info": {
   "codemirror_mode": {
    "name": "ipython",
    "version": 2
   },
   "file_extension": ".py",
   "mimetype": "text/x-python",
   "name": "python",
   "nbconvert_exporter": "python",
   "pygments_lexer": "ipython2",
   "version": "2.7.9"
  }
 },
 "nbformat": 4,
 "nbformat_minor": 0
}
