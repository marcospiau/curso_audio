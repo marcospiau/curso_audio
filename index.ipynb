{
 "cells": [
  {
   "cell_type": "markdown",
   "metadata": {},
   "source": [
    "# Curso: Processamento Digital de Sinais para Recuperação de Informações em Música\n",
    "\n",
    "Tiago Fernandes Tavares - tavares [at] dca [dot] fee [dot] unicamp [dot] br\n",
    "\n",
    "Recuperação de Informações em Música (*Music Information Retrieval - MIR*) é um campo de pesquisa e estudo que envolve técnicas para extração de informações de sinais digitalizados de áudio. MIR surgiu como um sub-campo de processamento digital de sinais e de aprendizado de máquina, mas sua rápida popularização, no começo dos século XXI, o levou a ganhar requisitos próprios. Este material conduzirá uma série de etapas de estudo que buscam ajudar a criar condições para que o estudante atinja os **objetivos terminais** do curso.\n",
    "\n",
    "## Objetivos terminais do curso\n",
    "Ao final deste curso, o aluno deverá ser capaz de:\n",
    "\n",
    "* Analisar sistemas de produção sonora e propor modelos matemáticos adequados para explicá-los;\n",
    "* Avaliar, numericamente e perceptualmente, modelos matemáticos para produção sonora;\n",
    "* Analisar sistemas de MIR, identificando seus principais componentes;\n",
    "* Avaliar o desempenho de sistemas de MIR e decidir sobre sua aplicabilidade em diversas situações;\n",
    "* Propor melhorias a sistemas de MIR, levantando hipóteses adequadas.\n",
    "\n",
    "## Pré-requisitos\n",
    "Para seguir adiante neste curso, é importante que o estudante domine algumas habilidades. Elas podem ser verificadas repondendo as questões abaixo:\n",
    "\n",
    "### 1) Programação em Python\n",
    "O programa abaixo retorna a soma dos elementos de uma lista. Modifique-o para que ele passe a retornar a média e o desvio padrão desses mesmos elementos:"
   ]
  },
  {
   "cell_type": "code",
   "execution_count": 2,
   "metadata": {
    "collapsed": false
   },
   "outputs": [
    {
     "name": "stdout",
     "output_type": "stream",
     "text": [
      "3\n"
     ]
    }
   ],
   "source": [
    "A = [1, -1, 3, 2, -2]\n",
    "s = 0\n",
    "for a in A:\n",
    "    s += a\n",
    "print s"
   ]
  },
  {
   "cell_type": "markdown",
   "metadata": {},
   "source": [
    "### 2) Trigonometria\n",
    "Escreva a expressão $cos^2(x)$ como uma combinação linear de constantes e funções $cos(.)$.\n",
    "\n",
    "### 3) Identidade de funções\n",
    "Calcule as constantes reais $a$, $b$ e $c$ na expressão:\n",
    "\n",
    "$$ a x^2 + 5b x + c = 16 x^2 + 10 x + 2a$$"
   ]
  },
  {
   "cell_type": "markdown",
   "metadata": {
    "collapsed": true
   },
   "source": [
    "# Assuntos a abordar\n",
    "\n",
    "* Espectrograma e parâmetros\n",
    "* Features de áudio\n",
    "* Estatísticas de timbre\n",
    "* Síntese aditiva - Lookup table / múltiplas harmônicas / técnica de analisar harmônica por harmônica\n",
    "* Síntese FM\n",
    "* Filtros / Atrasos - Estrutura para atraso em O(1) (buffer circular), lowpass, highpass, bandpass\n",
    "* Efeito dinâmicos: chorus / flanger / wahwah\n",
    "* Distorção não linear: upsampling e interpolação polinomial\n",
    "* Modelos físicos (Massa-Mola-Amortecedor, Z^-n e wave bi-direcional\n",
    "* Modelo de ressonador de Helmholtz\n",
    "* Modelo de corda amortecida - Excitação por pluck, martelo e por fricção\n",
    "* Caixa acústica do violão - modelando resposta em frequência\n",
    "* Harmônicos à partir de modelos físicos\n",
    "* Síntese granular"
   ]
  },
  {
   "cell_type": "code",
   "execution_count": null,
   "metadata": {
    "collapsed": true
   },
   "outputs": [],
   "source": []
  }
 ],
 "metadata": {
  "kernelspec": {
   "display_name": "Python 2",
   "language": "python",
   "name": "python2"
  },
  "language_info": {
   "codemirror_mode": {
    "name": "ipython",
    "version": 2
   },
   "file_extension": ".py",
   "mimetype": "text/x-python",
   "name": "python",
   "nbconvert_exporter": "python",
   "pygments_lexer": "ipython2",
   "version": "2.7.10"
  }
 },
 "nbformat": 4,
 "nbformat_minor": 0
}
