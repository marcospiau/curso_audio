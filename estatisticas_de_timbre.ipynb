{
 "cells": [
  {
   "cell_type": "markdown",
   "metadata": {},
   "source": [
    "# Estatísticas de Timbre\n",
    "\n",
    "## Objetivo\n",
    "\n",
    "Ao fim desta unidade, o aluno será capaz de utilizar estatísticas de descritores de timbre como um indicador do conteúdo de um arquivo de áudio\n",
    "\n",
    "## Pré-requisitos\n",
    "\n",
    "Antes de iniciar esta unidade, o aluno deve sentir-se confortável com a seguinte afirmação:\n",
    "\n",
    "É possível calcular características objetivas de um espectrograma de forma a caracterizar aspectos de seu conteúdo acústico.\n",
    "\n",
    "## Vetores\n",
    "\n",
    "Um vetor é um conjunto ordenado de medidas escalares. Por exemplo, podemos indicar um ponto na superfície terrestre através de um par ordenado $(a, b)$, onde $a$ é a longitude e $b$ é a latitude de um ponto. O mesmo vale para o plano Euclidiano: nele, qualquer ponto pode ser definido por um par $(x, y)$.\n",
    "\n",
    "Um vetor é, usualmente, denotado por uma letra minúscula em negrito, tal qual $\\boldsymbol x$. O $n$-ésmio elemento de um vetor é denotado $x_n$ (sem negrito). Para vetores, valem as seguintes propriedades:\n",
    "\n",
    "### Soma de vetores\n",
    "A soma de dois vetores é um vetor composto pela soma de seus elementos correspondentes. Assim, se $\\boldsymbol z = \\boldsymbol y + \\boldsymbol x$, então $z_n = y_n + x_n$.\n",
    "\n",
    "### Multiplicação por escalar\n",
    "A multiplicação de um vetor por um número escalar resulta num vetor no qual cada um dos elementos do vetor original foi multiplicado por esse número escalar. Assim, se $\\boldsymbol y = a \\boldsymbol x$, então $y_n = a x_n$.\n",
    "\n",
    "### Módulo\n",
    "O módulo de um vetor é igual ao comprimento da reta que o liga à origem. Para vetores de dimensão arbitrária $N$, a norma $||\\boldsymbol x ||$ é dada por:\n",
    "$$|| \\boldsymbol x || = \\sqrt{\\sum_{n=1}^N x_n^2}.$$\n",
    "\n",
    "### Distância Euclidiana\n",
    "A distância Euclidiana entre dois vetores é igual ao módulo de sua diferença, isto é:\n",
    "$$d(\\boldsymbol x, \\boldsymbol y) = || \\boldsymbol y - \\boldsymbol x || = || \\boldsymbol x - \\boldsymbol y || = \\sqrt{\\sum_{n=1}^N (x_n-y_n)^2}.$$\n"
   ]
  },
  {
   "cell_type": "code",
   "execution_count": 1,
   "metadata": {
    "collapsed": false
   },
   "outputs": [
    {
     "name": "stdout",
     "output_type": "stream",
     "text": [
      "[4 3]\n",
      "[3 4]\n",
      "[7 7]\n",
      "[40 30]\n",
      "5.0 5.0\n",
      "1.41421356237 1.41421356237\n"
     ]
    }
   ],
   "source": [
    "%matplotlib inline\n",
    "import numpy as np\n",
    "import matplotlib.pyplot as plt\n",
    "\n",
    "# Demonstrando propriedades de vetores\n",
    "# Ideia: coloque mais dimensoes nos vetores e veja o que acontece!\n",
    "x = np.array([4, 3])\n",
    "y = np.array([3, 4])\n",
    "\n",
    "print x\n",
    "print y\n",
    "print x + y # Soma de vetores\n",
    "print 10 * x # Multiplicacao por escalar\n",
    "print np.linalg.norm(y), np.linalg.norm(x) # Modulo de vetores\n",
    "print np.linalg.norm(y-x), np.linalg.norm(x-y) # Distancia euclidiana"
   ]
  },
  {
   "cell_type": "markdown",
   "metadata": {},
   "source": [
    "## Estatística e vetores\n",
    "Podemos utilizar vetores para registrar uma série de medições de um mesmo fenômeno. Um sinal digitalizado, por exemplo, pode ser considerado um vetor. Assim, é possível tomar um certo conjunto de amostras de dois sinais e calcular sua distância Euclidiana, por exemplo. Na notação que aplicamos para sinais, teríamos:\n",
    "$$d(\\boldsymbol x, \\boldsymbol y) = \\sqrt{\\sum_{n=0}^{N-1} (x[n]-y[n])^2}.$$\n",
    "\n",
    "Assim, verificamos que vetores e sinais podem ser representados da mesma maneira, e, portanto, podemos aplicar propriedades de sinais em vetores e propriedades de vetores em sinais.\n",
    "\n",
    "Em vetores, tanto quanto em sinais ou em um conjunto qualquer de números, podemos calcular medidas estatísticas. Elas descrevem como um sinal se comporta ao longo de várias medições, sob um ponto de vista estatístico.\n",
    "\n",
    "### Média e Variância\n",
    "A média de um conjunto de amostras é dada por:\n",
    "$$\\mu_x = \\frac{\\sum_{n=0}^{N-1} x[n]}{N}.$$\n",
    "\n",
    "A média é o valor $a$ que minimiza a soma dos quadrados das distâncias $(a-x[n])^2$ ao longo de todas as amostras, isto é:\n",
    "$$\\mu_x = \\arg \\min_a \\sum_{n=0}^{N-1} (a-x[n])^2.$$\n",
    "\n",
    "Ainda assim, sempre que houver qualquer tipo de variação em um sinal $x[n]$, é impossível escolher um valor que leva a soma de todas as distâncias a zero. A medida que indica qual é a dispersão residual é a variância, dada por:\n",
    "$$\\sigma^2_x = \\sum_{n=0} ^{N-1} (\\mu_x - x[n])^2.$$\n",
    "\n",
    "A media $\\sigma_x = \\sqrt{\\sigma_x^2}$ é chamada de desvio padrão."
   ]
  },
  {
   "cell_type": "code",
   "execution_count": 2,
   "metadata": {
    "collapsed": false
   },
   "outputs": [
    {
     "name": "stdout",
     "output_type": "stream",
     "text": [
      "0.0 0.0 -3.0\n",
      "1250.0 12.5 12.5\n"
     ]
    }
   ],
   "source": [
    "# Demonstrando propriedades de vetores\n",
    "# Ideia: coloque mais dimensoes nos vetores e veja o que acontece!\n",
    "x = np.array([-40, -30, 30, 40])\n",
    "y = np.array([3, 4, -3, -4])\n",
    "z = np.array([0, 1, -6, -7])\n",
    "\n",
    "print np.mean(x), np.mean(y), np.mean(z) # Medias\n",
    "print np.var(x), np.var(y), np.var(z) # Variancias"
   ]
  },
  {
   "cell_type": "markdown",
   "metadata": {},
   "source": [
    "## Normalizando vetores\n",
    "Uma operação matemática interessante que podemos fazer é a de normalizar vetores. Esta operação resulta em um vetor com média zero e variância unitária. O vetor $\\boldsymbol x_{\\mbox{normalizado}}$ pode ser calculado por:\n",
    "$$\\boldsymbol x_{\\mbox{normalizado}} = \\frac{\\boldsymbol x-\\mu_x}{\\sigma_x}.$$\n"
   ]
  },
  {
   "cell_type": "code",
   "execution_count": 3,
   "metadata": {
    "collapsed": false
   },
   "outputs": [
    {
     "name": "stdout",
     "output_type": "stream",
     "text": [
      "9.93333333333 4.62592926927e-18\n",
      "583.848888889 1.0\n"
     ]
    }
   ],
   "source": [
    "x = np.array([4, 3, 2, 4, 3.2, 1, 2, 90, 1, 2, 3, 4])\n",
    "x_norm = (x - np.mean(x))/np.sqrt(np.var(x))\n",
    "print np.mean(x), np.mean(x_norm)\n",
    "print np.var(x), np.var(x_norm)"
   ]
  },
  {
   "cell_type": "markdown",
   "metadata": {},
   "source": [
    "## Análise estatística de descritores de áudio\n",
    "\n",
    "Nesta análise, vamos verificar como as estatísticas de descritores de áudio podem ser utilizadas para identificar, de forma objetiva, o conteúdo de descritores.\n",
    "\n",
    "No código que segue, calcularemos o flatness espectral ao longo de quadros de curta duração de três trechos de áudio, contendo, respectivamente uma percussão, uma guitarra e um coral. Após, mostraremos os valores calculados em um histograma."
   ]
  },
  {
   "cell_type": "code",
   "execution_count": 4,
   "metadata": {
    "collapsed": false
   },
   "outputs": [
    {
     "name": "stderr",
     "output_type": "stream",
     "text": [
      "/usr/lib/python2.7/dist-packages/scipy/io/wavfile.py:172: WavFileWarning: Chunk (non-data) not understood, skipping it.\n",
      "  WavFileWarning)\n"
     ]
    },
    {
     "data": {
      "image/png": "[encoded data removed]",
      "text/plain": [
       "<matplotlib.figure.Figure at 0x7f9370045d90>"
      ]
     },
     "metadata": {},
     "output_type": "display_data"
    }
   ],
   "source": [
    "import mir3.modules.tool.wav2spectrogram as spectrogram\n",
    "import mir3.modules.features.flatness as flatness\n",
    "\n",
    "fnames = ['audio/tabla.wav', 'audio/bbking.wav', 'audio/chorus.wav']\n",
    "flat_samples = []\n",
    "for fname in fnames:\n",
    "    wav2spec = spectrogram.Wav2Spectrogram() # Objeto que converte arquivos wav para espectrogramas\n",
    "    s = wav2spec.convert(open(fname, 'rb'), window_length=1024, window_step=512, spectrum_type='magnitude')\n",
    "\n",
    "    fness = flatness.Flatness()\n",
    "    f = fness.calc_track(s)\n",
    "    flat_samples.append(f.data)\n",
    "    \n",
    "plt.figure();\n",
    "plt.hist(flat_samples, 15, normed=1, histtype='bar',\n",
    "                            color=['red', 'blue', 'green'],\n",
    "                            label=['Tabla', 'Guitarra', 'Coral']);\n",
    "plt.xlabel('Flatness');\n",
    "plt.ylabel('Quantidade de quadros');\n",
    "plt.legend(loc=1);"
   ]
  },
  {
   "cell_type": "markdown",
   "metadata": {},
   "source": [
    "Podemos, neste momento, detectar alguns comportamentos interessantes:\n",
    "* O flatness do coral permanece o tempo todo abaixo de 0.1\n",
    "* Embora o flatness da guitarra seja, em geral, baixo, também pode subir para valores mais altos\n",
    "* O flatness da tabla tem uma dispersão muito grande entre 0 e 0.45.\n",
    "\n",
    "Veja que essas observações indicam que a média (a tendência geral) e a variância (dispersão) podem ser boas formas de descrever esses histogramas em uma forma mais compacta\n"
   ]
  },
  {
   "cell_type": "code",
   "execution_count": 5,
   "metadata": {
    "collapsed": false
   },
   "outputs": [
    {
     "name": "stdout",
     "output_type": "stream",
     "text": [
      "audio/tabla.wav 0.184171042488 0.0117371188123\n",
      "audio/bbking.wav 0.0347740529661 0.00341338915218\n",
      "audio/chorus.wav 0.0396387161756 7.68322195159e-05\n"
     ]
    }
   ],
   "source": [
    "m = []\n",
    "s =[]\n",
    "\n",
    "for a in xrange(3):\n",
    "    m.append(np.mean(flat_samples[a]))\n",
    "    s.append(np.var(flat_samples[a]))\n",
    "    \n",
    "    print fnames[a], np.mean(flat_samples[a]), np.var(flat_samples[a])"
   ]
  },
  {
   "cell_type": "markdown",
   "metadata": {},
   "source": [
    "É importante perceber que este procedimento permite relacionar arquivos de áudio a um vetor, de tantas dimensões quanto se queira (poderíamos expandir este procedimento para incluir outros descritores, por exemplo).\n",
    "\n",
    "Esses vetores podem ser mostrados numa figura:"
   ]
  },
  {
   "cell_type": "code",
   "execution_count": 6,
   "metadata": {
    "collapsed": false
   },
   "outputs": [
    {
     "data": {
      "image/png": "[encoded data removed]",
      "text/plain": [
       "<matplotlib.figure.Figure at 0x7f9372b83410>"
      ]
     },
     "metadata": {},
     "output_type": "display_data"
    }
   ],
   "source": [
    "color=['red', 'blue', 'green']\n",
    "label=['Tabla', 'Guitarra', 'Coral']\n",
    "plt.figure();\n",
    "for a in xrange(len(m)):\n",
    "    plt.scatter(m[a], s[a], color=color[a], label=label[a])\n",
    "plt.xlabel('Media de flatness')\n",
    "plt.ylabel('Variancia de flatness')\n",
    "plt.legend(label, loc=4);\n",
    "plt.show()"
   ]
  },
  {
   "cell_type": "markdown",
   "metadata": {},
   "source": [
    "## Generalização\n",
    "\n",
    "Até o momento, mostramos como relacionar arquivos de áudio a vetores, mas não há nenhuma prova de que esses vetores são representativos quanto ao conteúdo acústico que utilizamos como base. Vamos começar esse processo de forma anedotal, utilizando o arquivo de áudio que foi usado como exercício na unidade anterior. Calcularemos a média e a variância de seu flatness espectral ao longo do tempo, e então mostraremos como o vetor resultante se relaciona com os anteriores. "
   ]
  },
  {
   "cell_type": "code",
   "execution_count": 7,
   "metadata": {
    "collapsed": false
   },
   "outputs": [
    {
     "data": {
      "image/png": "[encoded data removed]",
      "text/plain": [
       "<matplotlib.figure.Figure at 0x7f9370045e50>"
      ]
     },
     "metadata": {},
     "output_type": "display_data"
    }
   ],
   "source": [
    "wav2spec = spectrogram.Wav2Spectrogram() # Objeto que converte arquivos wav para espectrogramas\n",
    "spec = wav2spec.convert(open('audio/testing.wav', 'rb'), window_length=1024, window_step=512, spectrum_type='magnitude')\n",
    "fness = flatness.Flatness()\n",
    "f = fness.calc_track(spec)\n",
    "m.append(np.mean(f.data))\n",
    "s.append(np.var(f.data))\n",
    "\n",
    "color=['red', 'blue', 'green', 'black']\n",
    "label=['Tabla', 'Guitarra', 'Coral', 'Teste']\n",
    "plt.figure();\n",
    "for a in xrange(len(m)):\n",
    "    plt.scatter(m[a], s[a], color=color[a], label=label[a])\n",
    "plt.xlabel('Media de flatness')\n",
    "plt.ylabel('Variancia de flatness')\n",
    "plt.legend(label, loc=4);\n",
    "plt.show()"
   ]
  },
  {
   "cell_type": "markdown",
   "metadata": {},
   "source": [
    "Podemos visualizar que o ponto de teste parece mais próximo do vetor da Tabla que dos demais. Podemos calcular essa distância:"
   ]
  },
  {
   "cell_type": "code",
   "execution_count": 8,
   "metadata": {
    "collapsed": false
   },
   "outputs": [
    {
     "name": "stdout",
     "output_type": "stream",
     "text": [
      "Tabla 0.0695287780634\n",
      "Guitarra 0.0804584376464\n",
      "Coral 0.0761276337005\n"
     ]
    }
   ],
   "source": [
    "for i in xrange(3):\n",
    "    print label[i], np.linalg.norm( np.array([s[-1]-s[i], m[-1]-m[i]]))"
   ]
  },
  {
   "cell_type": "markdown",
   "metadata": {},
   "source": [
    "Portanto, o ponto está mais próximo de nossa referência para o som de tabla que dos demais.\n",
    "\n",
    "# Exercícios\n",
    "1. Modifique o código computacional fornecido de forma a utilizar outros descritores, já vistos em aula.\n",
    " 1. Quais deles parecem mais eficazes para separar quais tipos de sons (por exemplo: há algum descritor de acordo com o qual a distância entre o a guitarra e a tabla seja significativamente maior que a distância entre esses dois elementos e o coral?). \n",
    " 1. Considere também os arquivos audio/chirp.wav e audio/piano.wav, que contém, respectivamente, um glissando e uma nota de piano. Utilizando descritores e medidas objetivas, defina se eles se parecem mais com um coral, uma guitarra ou uma tabla. Essa resposta muda, dependendo dos descritores que forem utilizados?\n",
    "\n",
    "1. (começar em sala, continuar em casa) Encontre por volta de 20 arquivos de áudio que podem ser agrupados em duas categorias diferentes, à sua escolha (sugestão: use o [FreeSound](www.freesound.org)). Mostre, através de histogramas, como as duas categorias podem ser diferenciadas por meio de descritores calculados automaticamente. Na aula seguinte, apresente seus resultados para a classe."
   ]
  },
  {
   "cell_type": "code",
   "execution_count": null,
   "metadata": {
    "collapsed": true
   },
   "outputs": [],
   "source": []
  }
 ],
 "metadata": {
  "kernelspec": {
   "display_name": "Python 2",
   "language": "python",
   "name": "python2"
  },
  "language_info": {
   "codemirror_mode": {
    "name": "ipython",
    "version": 2
   },
   "file_extension": ".py",
   "mimetype": "text/x-python",
   "name": "python",
   "nbconvert_exporter": "python",
   "pygments_lexer": "ipython2",
   "version": "2.7.9"
  }
 },
 "nbformat": 4,
 "nbformat_minor": 0
}
