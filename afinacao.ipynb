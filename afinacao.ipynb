{
 "cells": [
  {
   "cell_type": "markdown",
   "metadata": {},
   "source": [
    "# Afinação e Notas Musicais\n",
    "\n",
    "## Objetivo\n",
    "Após esta unidade, o aluno será capaz de aplicar modelos matemáticos para relacionar o fenômeno perceptual da **altura**, o fenômeno físico da **frequência fundamental** e o fenômeno cultural das **notas musicais**.\n",
    "\n",
    "## Pré-requisitos\n",
    "Para acompanhar adequadamente esta unidade, o aluno deve estar tranquilo com:\n",
    "1. Podemos organizar notas musicais em oitavas,\n",
    "1. Os nomes das notas musicais se repetem em cada oitava,\n",
    "1. Algumas notas são referidas usando um modificador sustenido ou bemol\n",
    "1. Quando duas notas soam juntas, o som resultante pode ser dissonante ou consonante.\n",
    "\n",
    "## Como afinar uma lira\n",
    "\n",
    "O conceito de afinação está bastante ligado ao conceito de *intervalos*. Um intervalo é a diferença perceptual de alturas entre dois tons que soam simultaneamente. Tons medidos e absolutos (por exemplo: uma senóide de frequência 440 Hz) só foram possíveis depois da invenção de instrumentos modernos de geração e de instrumentos precisos para medição. Antes destes avanços tecnológicos, só era possível afinar instrumentos utilizando a percepção de intervalos.\n",
    "\n",
    "Na Grécia antiga, já haviam instrumentos de sopro e de corda (veja a flauta de Baco ou a lira de Apolo, por exemplo). Isso significa que havia alguma forma de afiná-los (em especial, o instrumento de corda, que desafina rapidamente com o calor). Portanto, os gregos já dominavam o conceito de que uma corda emite um som mais agudo quando é esticada mais fortemente, e um som mais grave quando é esticada com menos força.\n",
    "\n",
    "### Afinação Pitagórica\n",
    "[Pitágoras](http://www.sonora.iar.unicamp.br/index.php/sonora1/article/viewFile/29/28) é dito ser um dos pioneiros em sistematizar uma forma de afinar instrumentos. Ele observou que duas cordas de igual material, esticadas sob a mesma força, mas de comprimentos diferentes, [emitem sons de alturas diferentes](https://courses.physics.illinois.edu/phys193/student_reports/fall06/j_wilson/j_wilson_p199pom_fa06_final_pres.pdf). Sabemos, hoje, que cada altura diferente está ligada a uma frequência fundamental diferente.\n",
    "\n",
    "A união dos sons simultâneos das duas cordas produz um *intervalo*. Pitágoras observou que o intervalo produzido era muito mais agradável ao ouvido (ou: consonante) quando a razão entre os comprimentos das cordas era de 1 para 2. Neste caso, sabemos que a frequência fundamental de uma das vibrações é a metade da outra, e este intervalo é chamado de *oitava*. O segundo intervalo mais agradável ao ouvido ocorria quando os comprimentos das cordas tinham razão 2 para 3. Neste caso, surge um intervalo chamado de *quinta*.\n",
    "\n",
    "Pitágoras, então, definiu o seguinte método para encontrar as alturas de uma escala:\n",
    "1. Inicie com um tom de referência\n",
    "1. Afine a próxima nota usando um intervalo de quinta na direção dos agudos\n",
    "1. Se meu intervalo em relação à referência é maior que uma oitava, então caminhe uma oitava em direção dos graves\n",
    "1. Se já afinei todas as cordas de uma oitava, então pare.\n",
    "1. Use a nova nota obtida como referência e continue do passo 2."
   ]
  },
  {
   "cell_type": "code",
   "execution_count": 14,
   "metadata": {
    "collapsed": false
   },
   "outputs": [
    {
     "name": "stdout",
     "output_type": "stream",
     "text": [
      "[440.0, 469.86328125, 495.0, 528.59619140625, 556.875, 594.6707153320312, 626.484375, 660.0, 704.794921875, 742.5, 792.894287109375, 835.3125]\n",
      "892.006072998\n"
     ]
    }
   ],
   "source": [
    "referencia_inicial = 440.0 # Hz\n",
    "frequencias = [] # Esta lista recebera todas as frequencias de uma escala\n",
    "\n",
    "f = referencia_inicial\n",
    "while len(frequencias) < 12:\n",
    "    if f > (referencia_inicial * 2):\n",
    "        f /= 2.\n",
    "    frequencias.append(f)\n",
    "    f *= (3/2.)\n",
    "\n",
    "\n",
    "frequencias.sort()\n",
    "print frequencias\n",
    "print f"
   ]
  },
  {
   "cell_type": "markdown",
   "metadata": {},
   "source": [
    "Veja que há um fenômeno interessante que acontece. A nota que deveria ter frequência de 880.0 Hz (um intervalo de oitava em relação à referência inicial) na verdade é calculada como 892 Hz. Isso representa um erro calculável, na forma:"
   ]
  },
  {
   "cell_type": "code",
   "execution_count": 10,
   "metadata": {
    "collapsed": false
   },
   "outputs": [
    {
     "name": "stdout",
     "output_type": "stream",
     "text": [
      "1.36432647705\n"
     ]
    }
   ],
   "source": [
    "print 100*(f - (referencia_inicial * 2)) / (referencia_inicial*2)\n",
    "       "
   ]
  },
  {
   "cell_type": "markdown",
   "metadata": {},
   "source": [
    "Esse erro, de 1.36%, é bem conhecido e é chamado de Coma Pitagórico. Ele representa uma espécie de erro perceptual acumulado do sistema de afinação. Mas, veja: há um erro perceptual acumulado que, causa uma sensação de dissonância mesmo que a afinação toda utilize apenas intervalos perfeitamente consonantes. Trata-se de um paradoxo com o qual os músicos tiveram que lidar através da história.\n",
    "\n",
    "Na verdade, isso é um [fenômeno matematicamente inevitável](http://legacy.earlham.edu/~tobeyfo/musictheory/Book1/FFH1_CH1/1N_Pythagorean_Comma.html). A série de frequências geradas pela afinação pitagórica tem a forma:\n",
    "$$f \\times (\\frac{3}{2}) ^ N,$$\n",
    "excluídas as oitavas de ajuste.\n",
    "\n",
    "Um intervalo de oitava é gerado utilizando uma multiplicação da frequência inicial por uma potência de dois e, como sabemos, não existe nenhum caso em que uma potência de dois é gerada por uma potência de três.\n",
    "\n",
    "### Nomes das notas musicais\n",
    "Por razões históricas e puramente culturais, as civilizações que descenderam da Grécia antiga utilizaram doze notas como as partes de uma escala. Poderiam ser mais (como em algumas culturas asiáticas) ou menos (como em algumas culturas africanas). As notas receberam seus nomes (dó, ré, mi, fá, sol, lá, si) tomando por base uma [poesia em latim](https://en.wikipedia.org/wiki/Ut_queant_laxis) chamada Ut Queant Laxis, que é um hino a João Batista. Também, é comum utilizar a notação em letras (C, D, E, F, G, A, B) e os sinais de bemol (Cb, Db, Eb, etc) e sustenido (C#, D#, E#, etc) para denotar acidentes.\n",
    "\n",
    "\n",
    "### Ciclo de Quintas\n",
    "O sistema de afinação Pitagórico determina, implicitamente, um caminho por entre as notas musicais de uma escala que foi historicamente chamado de *ciclo de quintas*. Trata-se de um ciclo onde se colocam todas as notas musicais (excluindo-se a oitava), de forma que um passo em qualquer direção percorre um intervalo de quinta:\n",
    "\n",
    "C, G, D, A, E, B, F#, C#, G#, D#, A#, F, C\n",
    "\n",
    "### Afinação de igual temperamento\n",
    "A relação entre a frequência de vibração de uma corda e a sensação de altura relacionada a ela foi estudada incialmente (ao menos nestes termos) por Vincenzo Galilei, no século XVI. Esse conhecimento permitiu usar uma linguagem mais próxima à contemporânea para se referir à frequência de cordas vibrantes. Mesmo assim, ainda não haviam instrumentos para detectar frequências com precisão, e, portanto, os sistemas de afinação ainda dependiam de relações perceptuais intervalares.\n",
    "\n",
    "Uma afinação relativa, como a pitagórica, varia de acordo com o tom. Isso significa que, se um cravo for afinado à partir de um Dó, ele será afinado de maneira diferente que se partir de um Ré. Assim, instrumentos de teclado devem ser afinados novamente quanto uma música é tocada em um outro tom. Ao longo da história, surgiram algumas propostas mostrando caminhos alternativos para a afinação, e re-distribuindo o Coma de forma que ele fique acumulado em notas pouco usadas. Porém, especialmente com a necessidade de tocar o cravo em um repertório vasto sem ter grandes pausas, o processo histórico-cultural consolidou a afinação de igual temperamento.\n",
    "\n",
    "A afinação de igual temperamento já era conhecida desde Vincenzo Galilei, mas ganhou grande força depois do surgimento das peças da série Cravo Bem Temperado de Bach. A afinação de igual temperamento distribui o Coma igualmente por todas as notas da escala, de forma que nenhuma soa especialmente desafinada. O custo disso é que todas as notas soam levemente desafinadas.\n",
    "\n",
    "Na afinação de igual temperamento, a razão entre as frequências de duas notas consecutivas é igual a $\\sqrt[12]{2}$, de forma que ao fim de 12 notas a frequência obtida será $f \\times (\\sqrt[12]{2})^{12} = f \\times 2$."
   ]
  },
  {
   "cell_type": "code",
   "execution_count": 15,
   "metadata": {
    "collapsed": false
   },
   "outputs": [
    {
     "name": "stdout",
     "output_type": "stream",
     "text": [
      "[440.0, 466.1637615180899, 493.8833012561241, 523.2511306011974, 554.3652619537443, 587.3295358348153, 622.253967444162, 659.2551138257401, 698.456462866008, 739.988845423269, 783.9908719634989, 830.6093951598906]\n",
      "880.0\n"
     ]
    }
   ],
   "source": [
    "frequencias_t = [] # Esta lista recebera todas as frequencias de uma escala\n",
    "\n",
    "ft = referencia_inicial\n",
    "while len(frequencias_t) < 12:\n",
    "    frequencias_t.append(ft)\n",
    "    ft *= 2**(1/12.)\n",
    "\n",
    "\n",
    "frequencias_t.sort()\n",
    "print frequencias_t\n",
    "print ft"
   ]
  },
  {
   "cell_type": "markdown",
   "metadata": {},
   "source": [
    "### Quão desafinado é um sistema de afinação?\n",
    "\n",
    "No experimento a seguir, vamos calcular o quão desafinado é cada sistema de afinação em relação aos [intervalos da escala diatônica](http://ray.tomes.biz/alex.htm). É importante lembrar que esses intervalos foram definidos ao longo de um processo histórico, e não através do resultado de um cálculo. Utilizaremos os seguintes:\n",
    "\n",
    "| Intervalo | Razão de Frequências |\n",
    "|:-----------:|:------------:|\n",
    "| II       |       9/8 |  \n",
    "| III     |      5/4 |  \n",
    "| IV       |        4/3 |  \n",
    "| V         |         3/2 |  \n",
    "| VI       |       5/3 |  \n",
    "| VII    |     15/8 |  \n",
    "\n"
   ]
  },
  {
   "cell_type": "code",
   "execution_count": 16,
   "metadata": {
    "collapsed": false
   },
   "outputs": [
    {
     "name": "stdout",
     "output_type": "stream",
     "text": [
      "Intervalo: 2\n",
      "Erro pitagorica: 0.0\n",
      "Erro temperada: -0.225595705834\n",
      "Intervalo: 3\n",
      "Erro pitagorica: 1.25\n",
      "Erro temperada: 0.79368399159\n",
      "Intervalo: 4\n",
      "Erro pitagorica: 1.36432647705\n",
      "Erro temperada: 0.112989062753\n",
      "Intervalo: 5\n",
      "Erro pitagorica: 0.0\n",
      "Erro temperada: -0.112861541555\n",
      "Intervalo: 6\n",
      "Erro pitagorica: 1.25\n",
      "Erro temperada: 0.907569830446\n",
      "Intervalo: 7\n",
      "Erro pitagorica: 1.25\n",
      "Erro temperada: 0.679926686047\n"
     ]
    }
   ],
   "source": [
    "intervalos_diatonica = [2, 3, 4, 5, 6, 7]\n",
    "intervalos_cromatica = [2, 4, 5, 7, 9, 11]\n",
    "razoes = [9/8., 5/4., 4/3., 3/2., 5/3., 15/8.]\n",
    "\n",
    "for i in xrange(len(intervalos_diatonica)):\n",
    "    frequencia_ideal = referencia_inicial * razoes[i]\n",
    "    frequencia_pitagorica = frequencias[intervalos_cromatica[i]]\n",
    "    frequencia_temperada = frequencias_t[intervalos_cromatica[i]]\n",
    "    \n",
    "    erro_pitagorica = 100*(frequencia_pitagorica - (frequencia_ideal)) / (frequencia_ideal)\n",
    "    erro_temperada = 100*(frequencia_temperada - (frequencia_ideal)) / (frequencia_ideal)\n",
    "    \n",
    "    print \"Intervalo:\", intervalos_diatonica[i]\n",
    "    print \"Erro pitagorica:\", erro_pitagorica\n",
    "    print \"Erro temperada:\", erro_temperada\n",
    "    "
   ]
  },
  {
   "cell_type": "markdown",
   "metadata": {},
   "source": [
    "### Número MIDI\n",
    "Em termos computacionals, rapidamente torna-se pouco prático utilizar rótulos como \"Dó\" ou \"Ré\" para se referir a notas musicais. No contexto da computação musical, é comum atribuir um número inteiro a cada nota, de forma que um intervalo de um semi-tom é obtido simplesmente somando ou subtraindo 1 do número relacionado (isto é, os números relacionados ao fá e ao mi, em uma mesma oitava, diferem de 1). Isso se tornou ainda mais importante com a popularização dos instrumentos musicais no padrão MIDI, em que se consolidou que uma nota de frequência fundamental $f$ deve ser associada a um inteiro $N$ calculado por:\n",
    "$$N = 69 + 12 \\log_2(f/440).$$\n",
    "\n",
    "Isso significa que a frequência da nota $N$ é dada por:\n",
    "$$f = 2^{(N-69)/12} \\times 440.$$\n",
    "\n",
    "Veja que este padrão associa o lá central (440 Hz) à nota de número 69. Esta escolha é arbitrária, mas acabou sendo consolidada ao longo do tempo.\n",
    "\n",
    "A notação MIDI pode ser utilizada para associar alguns intervalos a deslocamentos na escala:\n",
    "\n",
    "| Intervalo | Passos (MIDI) |\n",
    "|:-----------:|:------------:|\n",
    "| II- (semi-tom) | 1 |\n",
    "| II (tom)      | 2 |  \n",
    "| III-     |  3 | \n",
    "| III (terça)    |  4 | \n",
    "| IV  (quarta)     |        5 |  \n",
    "| V- (trítono)    |  6 | \n",
    "| V  (quinta)       |         7 |  \n",
    "| VI-       |       8 |  \n",
    "| VI  (sexta)  |     9 |  \n",
    "| VII-    |     10 |  \n",
    "| VII  (sétima)  |     11 |\n",
    "| VIII  (oitava)  |     12 |\n",
    "\n",
    "### Notação Piano-Roll\n",
    "A notação pianola, ou Piano-Roll, denota cada nota através de três valores: seu tempo de início, seu tempo de final e o número MIDI correspondente à sua altura. Esse tipo de notação pode ser mostrado graficamente, através de caixas cuja posição vertical representa a frequência (altura) e os limites horizontais representam o tempo em que a nota está ativa. Assim, obtemos algo parecido com isto:\n",
    "\n",
    "![piano_roll](./mixcraft-screenshot.png)\n",
    "\n",
    "\n"
   ]
  },
  {
   "cell_type": "markdown",
   "metadata": {},
   "source": [
    "## Exercícios\n",
    "\n",
    "1. Faça um desenho representando uma notação piano-roll contendo as quatro primeiras notas utilizadas na afinação pitagórica partindo do lá central (A4). Suponha que as notas são tocadas por um segundo cada, em sequência (nunca simultâneas).\n",
    "1. Crie um programa que simula um processo de afinação pitagórica, mas que usa intervalos de terça no lugar de intervalos de quinta. Verifique como, nesse sistema de afinação, se comporta o erro de afinação em relação aos intervalos ideais.\n",
    "1. Encontre a diferença (percentual) entre as frequências de duas notas consecutivas na escala de igual temperamento.\n",
    "1. Encontre a frequência fundamental, o número MIDI e o rótulo (no formato nota-oitava - A4, C#3, etc.) relacionados às notas correspondentes (se precisar, faça uma busca na Internet!):\n",
    " 1. Às cordas de um violão, de um contrabaixo e de um violino;\n",
    " 1. Às notas mínima e máxima típicas de sopranos, contraltos, tenores e barítonos;\n",
    " 1. Às notas mais baixa e mais alta disponíveis num piano;\n",
    " 1. Às notas de frequência mais baixa e mais alta que poderiam ser ouvidas por um ser humano.\n",
    "\n",
    "\n"
   ]
  },
  {
   "cell_type": "code",
   "execution_count": null,
   "metadata": {
    "collapsed": true
   },
   "outputs": [],
   "source": []
  },
  {
   "cell_type": "code",
   "execution_count": null,
   "metadata": {
    "collapsed": true
   },
   "outputs": [],
   "source": []
  }
 ],
 "metadata": {
  "kernelspec": {
   "display_name": "Python 2",
   "language": "python",
   "name": "python2"
  },
  "language_info": {
   "codemirror_mode": {
    "name": "ipython",
    "version": 2
   },
   "file_extension": ".py",
   "mimetype": "text/x-python",
   "name": "python",
   "nbconvert_exporter": "python",
   "pygments_lexer": "ipython2",
   "version": "2.7.10"
  }
 },
 "nbformat": 4,
 "nbformat_minor": 0
}
